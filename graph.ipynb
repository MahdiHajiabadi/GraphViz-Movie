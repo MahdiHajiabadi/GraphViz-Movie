{
 "cells": [
  {
   "cell_type": "markdown",
   "id": "decimal-element",
   "metadata": {},
   "source": [
    "# 1st Part- Calculating Metrics"
   ]
  },
  {
   "cell_type": "markdown",
   "id": "trained-explosion",
   "metadata": {},
   "source": [
    "## Requirements: \n",
    "1. GraphViz (on your system and as a python package)\n",
    "2. cv2 (OpenCV)\n",
    "3. networkx\n",
    "4. numpy\n",
    "5. pandas\n",
    "6. matplotlib (but it is not required, you can skip that part)"
   ]
  },
  {
   "cell_type": "code",
   "execution_count": 1,
   "id": "afraid-permit",
   "metadata": {},
   "outputs": [
    {
     "name": "stdout",
     "output_type": "stream",
     "text": [
      "The Roots are: [10]\n",
      "The leaves are: [29, 0, 23, 34, 30, 45, 54, 1, 64, 53, 85, 12, 8, 81, 87, 19, 98, 96, 49, 65]\n",
      "The number of leaves is:  20\n",
      "The longest path is:  7  between  10  And  49\n",
      "[10, 37, 82, 44, 9, 51, 11, 49]\n",
      "The average path is:  5.4\n"
     ]
    }
   ],
   "source": [
    "import networkx as nx\n",
    "import numpy as np\n",
    "import pandas as pd\n",
    "\n",
    "data = pd.read_csv('multiverse-mx.csv')\n",
    "idx,idy = data.shape\n",
    "G = nx.DiGraph() \n",
    "i = 0 \n",
    "while (i < idx):\n",
    "    source = data['Infector'][i]\n",
    "    target = data['Susceptible'][i]\n",
    "    gen = data['gen'][i]\n",
    "    G.add_edge(source,target, weight =gen )\n",
    "    i +=1\n",
    "#### Finding the roots\n",
    "roots = []\n",
    "leaves = []\n",
    "for node in G: \n",
    "    if G.in_degree(node)==0:\n",
    "        roots.append(node)\n",
    "    if (G.out_degree(node)==0):\n",
    "        leaves.append(node)\n",
    "\n",
    "print(\"The Roots are:\",roots)\n",
    "\n",
    "print(\"The leaves are:\",leaves)\n",
    "\n",
    "print(\"The number of leaves is: \", len(leaves))\n",
    "\n",
    "longest_root = -1\n",
    "longest_leaf = -1\n",
    "max_path_length = 0\n",
    "for node in roots:\n",
    "    length = nx.single_source_shortest_path_length(G,node)\n",
    "    max_dist = max(length.values())\n",
    "    if (max_dist > max_path_length):\n",
    "        max_path_length = max_dist\n",
    "        longest_root = node\n",
    "        longest_leaf = max(length,key = length.get)\n",
    "print(\"The longest path is: \", max_path_length, \" between \", longest_root , \" And \", longest_leaf)\n",
    "for ll in nx.all_simple_paths(G, source=longest_root, target=longest_leaf):\n",
    "    print(ll)\n",
    "    longest_path=ll\n",
    "avg_path = 0\n",
    "\n",
    "for node in roots:\n",
    "    s = nx.single_source_shortest_path_length(G,node)\n",
    "    for l in leaves:\n",
    "        if l in s:\n",
    "            avg_path += s.get(l)\n",
    "\n",
    "print(\"The average path is: \",avg_path/len(leaves))\n",
    "            "
   ]
  },
  {
   "cell_type": "markdown",
   "id": "suffering-internet",
   "metadata": {},
   "source": [
    "### Calculating Q (Can be skipped)"
   ]
  },
  {
   "cell_type": "code",
   "execution_count": 2,
   "id": "accomplished-cylinder",
   "metadata": {},
   "outputs": [
    {
     "name": "stdout",
     "output_type": "stream",
     "text": [
      "5.4\n",
      "The value of Q is:  16.484287317620648\n",
      "47\n"
     ]
    }
   ],
   "source": [
    "avgD = avg_path/len(leaves)\n",
    "print(avgD)\n",
    "# print(len(leaves)/)\n",
    "Gen = data['gen'].max()\n",
    "Q = len(leaves)/avgD/Gen * (len(G.nodes)-1) * 100\n",
    "print(\"The value of Q is: \",Q)\n",
    "print(len(G.nodes)-1)"
   ]
  },
  {
   "cell_type": "markdown",
   "id": "diagnostic-major",
   "metadata": {},
   "source": [
    "### Plotting The degree Distribution"
   ]
  },
  {
   "cell_type": "code",
   "execution_count": 3,
   "id": "authorized-grounds",
   "metadata": {},
   "outputs": [
    {
     "name": "stdout",
     "output_type": "stream",
     "text": [
      "The average out-degree is:  1.7142857142857142\n"
     ]
    },
    {
     "data": {
      "image/png": "[encoded data removed]",
      "text/plain": [
       "<Figure size 432x288 with 1 Axes>"
      ]
     },
     "metadata": {
      "needs_background": "light"
     },
     "output_type": "display_data"
    }
   ],
   "source": [
    "import matplotlib.pyplot as plt\n",
    "import networkx as nx\n",
    "degrees = [G.out_degree(n) for n in G.nodes()]\n",
    "print(\"The average out-degree is: \", sum(degrees)/(len(G.nodes) - len(leaves)))\n",
    "plt.hist(degrees,color = \"skyblue\")\n",
    "plt.grid(axis='y', alpha=0.95)\n",
    "plt.show()"
   ]
  },
  {
   "cell_type": "markdown",
   "id": "special-price",
   "metadata": {},
   "source": [
    "## Showing the nodes in each depth"
   ]
  },
  {
   "cell_type": "code",
   "execution_count": 4,
   "id": "lesser-center",
   "metadata": {},
   "outputs": [
    {
     "name": "stdout",
     "output_type": "stream",
     "text": [
      "The nodes in depth 0 :  10  The size is:  1\n",
      "The nodes in depth 1 :  [37 78]  The size is:  2\n",
      "The nodes in depth 2 :  [82  3]  The size is:  2\n",
      "The nodes in depth 3 :  [58 44  6 47]  The size is:  4\n",
      "The nodes in depth 4 :  [33  7 72 41  9 39 15 16 22 57 60 29]  The size is:  12\n",
      "The nodes in depth 5 :  [64  1 65  0 34 38 70 12 45 81 83 51 53 84 23 54 93 95]  The size is:  18\n",
      "The nodes in depth 6 :  [96 98  8 11 19 85 87 30]  The size is:  8\n",
      "The nodes in depth 7 :  49  The size is:  1\n"
     ]
    }
   ],
   "source": [
    "depth_nodes = {}\n",
    "for node in roots:\n",
    "    s = nx.single_source_shortest_path_length(G,node)\n",
    "    for key,value in s.items():\n",
    "        in_edge = G.in_edges(key)\n",
    "        if (value in depth_nodes):\n",
    "            temp = depth_nodes.get(value)\n",
    "            c = np.array(temp)\n",
    "            c = np.append(c,key)\n",
    "            depth_nodes[value] = c\n",
    "        else:\n",
    "            depth_nodes[value] = key\n",
    "\n",
    "for key in depth_nodes:\n",
    "    print(\"The nodes in depth\",key,\": \", depth_nodes.get(key), \" The size is: \", np.size(depth_nodes.get(key)))"
   ]
  },
  {
   "cell_type": "markdown",
   "id": "reflected-sucking",
   "metadata": {},
   "source": [
    "### Analyzing the number of infections and time of the multiverse cases should be done in the cell below"
   ]
  },
  {
   "cell_type": "code",
   "execution_count": 23,
   "id": "manual-chance",
   "metadata": {},
   "outputs": [],
   "source": [
    "##### Multiverse and Time Analysis should be done in this cell"
   ]
  },
  {
   "cell_type": "markdown",
   "id": "nominated-colonial",
   "metadata": {},
   "source": [
    "## Creating the level-gen table (Can be skipped)\n",
    "\n",
    "### its name is level_gen_table"
   ]
  },
  {
   "cell_type": "code",
   "execution_count": 5,
   "id": "compact-occasions",
   "metadata": {},
   "outputs": [],
   "source": [
    "level_gen_table = {}\n",
    "for node in roots:\n",
    "    s = nx.single_source_shortest_path_length(G,node)\n",
    "    for key,value in s.items():\n",
    "        in_edge = G.in_edges(key)\n",
    "        vvvalue = -1\n",
    "        for u,v in in_edge:\n",
    "            vvvalue = G.edges[u,v][\"weight\"]\n",
    "            if (value in level_gen_table):\n",
    "                temp = level_gen_table.get(value)\n",
    "                c = np.array(temp)\n",
    "                c = np.append(c,vvvalue)\n",
    "                level_gen_table[value] = c\n",
    "            else:\n",
    "                level_gen_table[value] = vvvalue\n"
   ]
  },
  {
   "cell_type": "markdown",
   "id": "variable-offering",
   "metadata": {},
   "source": [
    "# 2nd Step, Visualization\n",
    "## 1st step create a separate png file for each change"
   ]
  },
  {
   "cell_type": "code",
   "execution_count": null,
   "id": "dc498160",
   "metadata": {},
   "outputs": [
    {
     "name": "stdout",
     "output_type": "stream",
     "text": [
      "CPU times: user 3 µs, sys: 1 µs, total: 4 µs\n",
      "Wall time: 6.91 µs\n",
      "0.0 % of the process is done.\n"
     ]
    }
   ],
   "source": [
    "%time\n",
    "import pandas as pd\n",
    "import numpy as np\n",
    "import sys\n",
    "import pydot\n",
    "from graphviz import Digraph\n",
    "from subprocess import check_call\n",
    "import graphviz\n",
    "\n",
    "\n",
    "data = pd.read_csv('multiverse-mx.csv')\n",
    "idx,idy = data.shape\n",
    "df1 = data.sort_values(by=['gen'],ignore_index=False)\n",
    "m = max(data['Infector'].max(), data['Susceptible'].max())\n",
    "U = np.array(range(0,m+1))\n",
    "for i in range(0,m+1):\n",
    "    U[i] = -1\n",
    "df1.to_csv(\"ordered_multiverse.csv\",index=False)\n",
    "\n",
    "\n",
    "\n",
    "gra = Digraph(strict=True)\n",
    "e = []\n",
    "i=0\n",
    "data = pd.read_csv(\"ordered_multiverse.csv\")\n",
    "num_of_universe = len(data.U.unique())\n",
    "while(i < idx):\n",
    "    source = data['Infector'][i]\n",
    "    target = data['Susceptible'][i]\n",
    "    source_name = \"A\"+str(source)\n",
    "    target_name = \"A\"+str(target)\n",
    "    gen = data['gen'][i]\n",
    "    gra.node(str(source_name),color='grey',style='filled')\n",
    "    gra.node(str(target_name),color='grey',style='filled')\n",
    "    gra.edge(str(source_name), str(target_name),color='grey', label=str(gen))\n",
    "    i +=1\n",
    "gra.render(filename='multiverse/_1.dot')\n",
    "path = \"multiverse/_1.dot\"\n",
    "output = \"multiverse/_1\" + \".png\"\n",
    "check_call(['dot','-Tpng',path,'-o',output])\n",
    "\n",
    "\n",
    "\n",
    "colors = [\"red\",\"cyan\", \"orange\", \"bisque4\", \"yellow\", \"khaki\",\"purple\",\"green\",\"salmon\" ]\n",
    "i=0\n",
    "gen_curr = 0\n",
    "png_idx = 0\n",
    "nodes = []\n",
    "\n",
    "\n",
    "while(i <idx):\n",
    "    source = data['Infector'][i]\n",
    "    target = data['Susceptible'][i]\n",
    "    gen = data['gen'][i]\n",
    "    U = data['U'][i]\n",
    "    source_name = \"A\"+str(source)\n",
    "    target_name = \"A\"+str(target)\n",
    "    if (gen==gen_curr):\n",
    "        gra.edge(source_name, target_name,color=colors[U],label=str(gen))\n",
    "        if (source in longest_path):\n",
    "            gra.node(source_name,color='magenta',style='filled')\n",
    "        else:\n",
    "            gra.node(source_name,color=colors[U],style='filled')\n",
    "            nodes.append(source_name)\n",
    "        if (target in longest_path):\n",
    "            gra.node(target_name,color='magenta',style='filled')\n",
    "        else:\n",
    "            gra.node(target_name,color=colors[U],style='filled')\n",
    "            nodes.append(target_name)\n",
    "        i +=1\n",
    "    if(gen!=gen_curr):\n",
    "        gen_curr = gen\n",
    "        path = \"multiverse/\" + str(png_idx) + \".dot\"\n",
    "        png_idx = png_idx + 1\n",
    "        gra.render(filename=path)\n",
    "        output = path + \".png\"\n",
    "        check_call(['dot','-Tpng','-Gsize=69,250\\!','-Gdpi=100', path,'-o',output])\n",
    "        if (num_of_universe==1):\n",
    "            for _node in nodes:\n",
    "                gra.node(_node,color='lightgreen')\n",
    "            nodes=[]\n",
    "    if ((i%20) == 0):\n",
    "        print(i/idx*100,\"% of the process is done.\")\n",
    "\n",
    "path = \"multiverse/\" + str(png_idx) + \".dot\"\n",
    "png_idx = png_idx + 1\n",
    "gra.render(filename=path)\n",
    "output = path + \".png\"\n",
    "check_call(['dot','-Tpng', '-Gsize=69,250\\!','-Gdpi=100',path,'-o',output])"
   ]
  },
  {
   "cell_type": "markdown",
   "id": "attended-settle",
   "metadata": {},
   "source": [
    "### 2nd step, putting them all together using OpenCV (cv2) package"
   ]
  },
  {
   "cell_type": "code",
   "execution_count": 10,
   "id": "f5b6e5eb",
   "metadata": {},
   "outputs": [
    {
     "name": "stdout",
     "output_type": "stream",
     "text": [
      "0.0 % of the process is done.\n",
      "43.47826086956522 % of the process is done.\n",
      "86.95652173913044 % of the process is done.\n",
      "46\n"
     ]
    }
   ],
   "source": [
    "\n",
    "import cv2\n",
    "import numpy as np\n",
    "import glob\n",
    "img_array = []\n",
    "imgs = glob.glob(\"multiverse/*.png\")\n",
    "path = \"multiverse/\"\n",
    "for i in range(0,png_idx):\n",
    "    input1 = path+str(i) +\".dot\" + \".png\"\n",
    "    img = cv2.imread(input1)\n",
    "    if (i==0): \n",
    "        height, width, layers = img.shape\n",
    "    resized = cv2.resize(img,(width,height) , interpolation = cv2.INTER_AREA)    \n",
    "    size = (width,height)\n",
    "    if ((i%20) == 0):\n",
    "        print(i/png_idx*100,\"% of the process is done.\")\n",
    "    img_array.append(resized)\n",
    "out = cv2.VideoWriter('multiverse/project_mv.avi',cv2.VideoWriter_fourcc(*'DIVX'), 1, size)\n",
    "print(len(img_array))\n",
    "for i in range(len(img_array)):\n",
    "    out.write(img_array[i])\n",
    "out.release()\n"
   ]
  },
  {
   "cell_type": "code",
   "execution_count": null,
   "id": "a4051235",
   "metadata": {},
   "outputs": [],
   "source": []
  }
 ],
 "metadata": {
  "kernelspec": {
   "display_name": "Python 3",
   "language": "python",
   "name": "python3"
  },
  "language_info": {
   "codemirror_mode": {
    "name": "ipython",
    "version": 3
   },
   "file_extension": ".py",
   "mimetype": "text/x-python",
   "name": "python",
   "nbconvert_exporter": "python",
   "pygments_lexer": "ipython3",
   "version": "3.9.2"
  }
 },
 "nbformat": 4,
 "nbformat_minor": 5
}
